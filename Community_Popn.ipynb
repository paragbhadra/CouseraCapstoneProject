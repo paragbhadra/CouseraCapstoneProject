{
 "cells": [
  {
   "cell_type": "code",
   "execution_count": 10,
   "id": "26ea5bd0",
   "metadata": {},
   "outputs": [],
   "source": [
    "import pandas as pd\n",
    "import numpy as np\n",
    "\n"
   ]
  },
  {
   "cell_type": "code",
   "execution_count": 11,
   "id": "8140b476",
   "metadata": {},
   "outputs": [
    {
     "data": {
      "text/html": [
       "<div>\n",
       "<style scoped>\n",
       "    .dataframe tbody tr th:only-of-type {\n",
       "        vertical-align: middle;\n",
       "    }\n",
       "\n",
       "    .dataframe tbody tr th {\n",
       "        vertical-align: top;\n",
       "    }\n",
       "\n",
       "    .dataframe thead th {\n",
       "        text-align: right;\n",
       "    }\n",
       "</style>\n",
       "<table border=\"1\" class=\"dataframe\">\n",
       "  <thead>\n",
       "    <tr style=\"text-align: right;\">\n",
       "      <th></th>\n",
       "      <th>CNAME_E</th>\n",
       "      <th>COMM_NUM</th>\n",
       "      <th>SHAPE_AREA</th>\n",
       "      <th>SHAPE_LEN</th>\n",
       "      <th>lat</th>\n",
       "      <th>lon</th>\n",
       "    </tr>\n",
       "  </thead>\n",
       "  <tbody>\n",
       "    <tr>\n",
       "      <th>0</th>\n",
       "      <td>AL BADA'</td>\n",
       "      <td>333</td>\n",
       "      <td>1.984701e+06</td>\n",
       "      <td>7946.070175</td>\n",
       "      <td>25.225314</td>\n",
       "      <td>55.268768</td>\n",
       "    </tr>\n",
       "    <tr>\n",
       "      <th>1</th>\n",
       "      <td>CORNICHE DEIRA</td>\n",
       "      <td>121</td>\n",
       "      <td>8.707842e+05</td>\n",
       "      <td>5165.842443</td>\n",
       "      <td>25.287165</td>\n",
       "      <td>55.317958</td>\n",
       "    </tr>\n",
       "    <tr>\n",
       "      <th>2</th>\n",
       "      <td>AL KHWANEEJ SECOND</td>\n",
       "      <td>282</td>\n",
       "      <td>1.269407e+07</td>\n",
       "      <td>14582.351508</td>\n",
       "      <td>25.230697</td>\n",
       "      <td>55.521222</td>\n",
       "    </tr>\n",
       "    <tr>\n",
       "      <th>3</th>\n",
       "      <td>AL SAFA FIRST</td>\n",
       "      <td>353</td>\n",
       "      <td>2.430429e+06</td>\n",
       "      <td>6705.662879</td>\n",
       "      <td>25.175690</td>\n",
       "      <td>55.238309</td>\n",
       "    </tr>\n",
       "    <tr>\n",
       "      <th>4</th>\n",
       "      <td>NAZWAH</td>\n",
       "      <td>736</td>\n",
       "      <td>1.305883e+07</td>\n",
       "      <td>15567.139691</td>\n",
       "      <td>25.024015</td>\n",
       "      <td>55.646574</td>\n",
       "    </tr>\n",
       "  </tbody>\n",
       "</table>\n",
       "</div>"
      ],
      "text/plain": [
       "              CNAME_E  COMM_NUM    SHAPE_AREA     SHAPE_LEN        lat  \\\n",
       "0            AL BADA'       333  1.984701e+06   7946.070175  25.225314   \n",
       "1      CORNICHE DEIRA       121  8.707842e+05   5165.842443  25.287165   \n",
       "2  AL KHWANEEJ SECOND       282  1.269407e+07  14582.351508  25.230697   \n",
       "3       AL SAFA FIRST       353  2.430429e+06   6705.662879  25.175690   \n",
       "4              NAZWAH       736  1.305883e+07  15567.139691  25.024015   \n",
       "\n",
       "         lon  \n",
       "0  55.268768  \n",
       "1  55.317958  \n",
       "2  55.521222  \n",
       "3  55.238309  \n",
       "4  55.646574  "
      ]
     },
     "execution_count": 11,
     "metadata": {},
     "output_type": "execute_result"
    }
   ],
   "source": [
    "dxb_communities=pd.read_csv(\"Dxb_Comm_LatLon.csv\")\n",
    "dxb_communities.head()"
   ]
  },
  {
   "cell_type": "code",
   "execution_count": 12,
   "id": "9458ddae",
   "metadata": {},
   "outputs": [],
   "source": [
    "dxb_population_raw = pd.read_excel(\"Dubai Communitywise Population.xlsx\", sheet_name='DxbPop')"
   ]
  },
  {
   "cell_type": "code",
   "execution_count": 13,
   "id": "7bfa66ba",
   "metadata": {},
   "outputs": [],
   "source": [
    "dxb_population_raw.drop('Unnamed: 4', axis = 'columns', inplace = True)\n",
    "dxb_population = dxb_population_raw[:226]"
   ]
  },
  {
   "cell_type": "code",
   "execution_count": 23,
   "id": "ef3abd2c",
   "metadata": {},
   "outputs": [
    {
     "data": {
      "text/plain": [
       "(226, 7)"
      ]
     },
     "execution_count": 23,
     "metadata": {},
     "output_type": "execute_result"
    }
   ],
   "source": [
    "dxb_population.shape"
   ]
  },
  {
   "cell_type": "code",
   "execution_count": 19,
   "id": "82db7300",
   "metadata": {},
   "outputs": [],
   "source": [
    "merged_commu_pop = pd.merge(left=dxb_communities, right=dxb_population, left_on='COMM_NUM', right_on='Community Code')"
   ]
  },
  {
   "cell_type": "code",
   "execution_count": 20,
   "id": "79fabb55",
   "metadata": {},
   "outputs": [],
   "source": [
    "merged_commu_pop.drop(merged_commu_pop.columns[[0,9]], axis = 'columns', inplace = True)"
   ]
  },
  {
   "cell_type": "code",
   "execution_count": 21,
   "id": "39ee6e17",
   "metadata": {},
   "outputs": [
    {
     "data": {
      "text/html": [
       "<div>\n",
       "<style scoped>\n",
       "    .dataframe tbody tr th:only-of-type {\n",
       "        vertical-align: middle;\n",
       "    }\n",
       "\n",
       "    .dataframe tbody tr th {\n",
       "        vertical-align: top;\n",
       "    }\n",
       "\n",
       "    .dataframe thead th {\n",
       "        text-align: right;\n",
       "    }\n",
       "</style>\n",
       "<table border=\"1\" class=\"dataframe\">\n",
       "  <thead>\n",
       "    <tr style=\"text-align: right;\">\n",
       "      <th></th>\n",
       "      <th>COMM_NUM</th>\n",
       "      <th>SHAPE_AREA</th>\n",
       "      <th>SHAPE_LEN</th>\n",
       "      <th>lat</th>\n",
       "      <th>lon</th>\n",
       "      <th>Sector</th>\n",
       "      <th>CNAME_E</th>\n",
       "      <th>CNAME_A</th>\n",
       "      <th>Pop2017</th>\n",
       "      <th>Pop2018</th>\n",
       "      <th>Pop2019</th>\n",
       "    </tr>\n",
       "  </thead>\n",
       "  <tbody>\n",
       "    <tr>\n",
       "      <th>0</th>\n",
       "      <td>333</td>\n",
       "      <td>1.984701e+06</td>\n",
       "      <td>7946.070175</td>\n",
       "      <td>25.225314</td>\n",
       "      <td>55.268768</td>\n",
       "      <td>Sector 3</td>\n",
       "      <td>AL BADA</td>\n",
       "      <td>البدع</td>\n",
       "      <td>51467.0</td>\n",
       "      <td>54338.0</td>\n",
       "      <td>56734.0</td>\n",
       "    </tr>\n",
       "    <tr>\n",
       "      <th>1</th>\n",
       "      <td>121</td>\n",
       "      <td>8.707842e+05</td>\n",
       "      <td>5165.842443</td>\n",
       "      <td>25.287165</td>\n",
       "      <td>55.317958</td>\n",
       "      <td>Sector 1</td>\n",
       "      <td>CORNICHE DEIRA</td>\n",
       "      <td>كورنيش ديرة</td>\n",
       "      <td>14.0</td>\n",
       "      <td>14.0</td>\n",
       "      <td>14.0</td>\n",
       "    </tr>\n",
       "    <tr>\n",
       "      <th>2</th>\n",
       "      <td>282</td>\n",
       "      <td>1.269407e+07</td>\n",
       "      <td>14582.351508</td>\n",
       "      <td>25.230697</td>\n",
       "      <td>55.521222</td>\n",
       "      <td>Sector 2</td>\n",
       "      <td>AL KHAWANEEJ TWO</td>\n",
       "      <td>الخوانيج الثانية</td>\n",
       "      <td>2786.0</td>\n",
       "      <td>3865.0</td>\n",
       "      <td>4523.0</td>\n",
       "    </tr>\n",
       "    <tr>\n",
       "      <th>3</th>\n",
       "      <td>353</td>\n",
       "      <td>2.430429e+06</td>\n",
       "      <td>6705.662879</td>\n",
       "      <td>25.175690</td>\n",
       "      <td>55.238309</td>\n",
       "      <td>Sector 3</td>\n",
       "      <td>AL SAFFA FIRST</td>\n",
       "      <td>الصفا الأولى</td>\n",
       "      <td>7540.0</td>\n",
       "      <td>7893.0</td>\n",
       "      <td>8514.0</td>\n",
       "    </tr>\n",
       "    <tr>\n",
       "      <th>4</th>\n",
       "      <td>736</td>\n",
       "      <td>1.305883e+07</td>\n",
       "      <td>15567.139691</td>\n",
       "      <td>25.024015</td>\n",
       "      <td>55.646574</td>\n",
       "      <td>Sector 7</td>\n",
       "      <td>NAZWAH</td>\n",
       "      <td>نزوه</td>\n",
       "      <td>450.0</td>\n",
       "      <td>504.0</td>\n",
       "      <td>544.0</td>\n",
       "    </tr>\n",
       "  </tbody>\n",
       "</table>\n",
       "</div>"
      ],
      "text/plain": [
       "   COMM_NUM    SHAPE_AREA     SHAPE_LEN        lat        lon    Sector  \\\n",
       "0       333  1.984701e+06   7946.070175  25.225314  55.268768  Sector 3   \n",
       "1       121  8.707842e+05   5165.842443  25.287165  55.317958  Sector 1   \n",
       "2       282  1.269407e+07  14582.351508  25.230697  55.521222  Sector 2   \n",
       "3       353  2.430429e+06   6705.662879  25.175690  55.238309  Sector 3   \n",
       "4       736  1.305883e+07  15567.139691  25.024015  55.646574  Sector 7   \n",
       "\n",
       "            CNAME_E           CNAME_A  Pop2017  Pop2018  Pop2019  \n",
       "0           AL BADA             البدع  51467.0  54338.0  56734.0  \n",
       "1    CORNICHE DEIRA       كورنيش ديرة     14.0     14.0     14.0  \n",
       "2  AL KHAWANEEJ TWO  الخوانيج الثانية   2786.0   3865.0   4523.0  \n",
       "3    AL SAFFA FIRST      الصفا الأولى   7540.0   7893.0   8514.0  \n",
       "4            NAZWAH              نزوه    450.0    504.0    544.0  "
      ]
     },
     "execution_count": 21,
     "metadata": {},
     "output_type": "execute_result"
    }
   ],
   "source": [
    "merged_commu_pop.rename(columns={'Community_En': 'CNAME_E', 'Community_Ar': 'CNAME_A'},inplace = True)\n",
    "merged_commu_pop.head()"
   ]
  },
  {
   "cell_type": "code",
   "execution_count": 22,
   "id": "54aa598a",
   "metadata": {},
   "outputs": [
    {
     "data": {
      "text/html": [
       "<div>\n",
       "<style scoped>\n",
       "    .dataframe tbody tr th:only-of-type {\n",
       "        vertical-align: middle;\n",
       "    }\n",
       "\n",
       "    .dataframe tbody tr th {\n",
       "        vertical-align: top;\n",
       "    }\n",
       "\n",
       "    .dataframe thead th {\n",
       "        text-align: right;\n",
       "    }\n",
       "</style>\n",
       "<table border=\"1\" class=\"dataframe\">\n",
       "  <thead>\n",
       "    <tr style=\"text-align: right;\">\n",
       "      <th></th>\n",
       "      <th>COMM_NUM</th>\n",
       "      <th>SHAPE_AREA</th>\n",
       "      <th>SHAPE_LEN</th>\n",
       "      <th>lat</th>\n",
       "      <th>lon</th>\n",
       "      <th>Pop2017</th>\n",
       "      <th>Pop2018</th>\n",
       "      <th>Pop2019</th>\n",
       "      <th>Pop2019density</th>\n",
       "      <th>PopGrowth19by18</th>\n",
       "    </tr>\n",
       "  </thead>\n",
       "  <tbody>\n",
       "    <tr>\n",
       "      <th>count</th>\n",
       "      <td>226.000000</td>\n",
       "      <td>2.260000e+02</td>\n",
       "      <td>226.000000</td>\n",
       "      <td>226.000000</td>\n",
       "      <td>226.000000</td>\n",
       "      <td>226.000000</td>\n",
       "      <td>226.000000</td>\n",
       "      <td>226.000000</td>\n",
       "      <td>226.000000</td>\n",
       "      <td>226.000000</td>\n",
       "    </tr>\n",
       "    <tr>\n",
       "      <th>mean</th>\n",
       "      <td>490.694690</td>\n",
       "      <td>2.105540e+07</td>\n",
       "      <td>15928.212597</td>\n",
       "      <td>25.119813</td>\n",
       "      <td>55.327693</td>\n",
       "      <td>13170.154867</td>\n",
       "      <td>14125.110619</td>\n",
       "      <td>14849.115044</td>\n",
       "      <td>6712.612029</td>\n",
       "      <td>603.813035</td>\n",
       "    </tr>\n",
       "    <tr>\n",
       "      <th>std</th>\n",
       "      <td>261.874728</td>\n",
       "      <td>4.042519e+07</td>\n",
       "      <td>14509.579155</td>\n",
       "      <td>0.146898</td>\n",
       "      <td>0.146786</td>\n",
       "      <td>24155.353167</td>\n",
       "      <td>24297.850367</td>\n",
       "      <td>24883.566435</td>\n",
       "      <td>15412.114960</td>\n",
       "      <td>6923.760207</td>\n",
       "    </tr>\n",
       "    <tr>\n",
       "      <th>min</th>\n",
       "      <td>101.000000</td>\n",
       "      <td>7.308970e+04</td>\n",
       "      <td>1397.451420</td>\n",
       "      <td>24.660479</td>\n",
       "      <td>54.904850</td>\n",
       "      <td>0.000000</td>\n",
       "      <td>0.000000</td>\n",
       "      <td>0.000000</td>\n",
       "      <td>0.000000</td>\n",
       "      <td>-42.164019</td>\n",
       "    </tr>\n",
       "    <tr>\n",
       "      <th>25%</th>\n",
       "      <td>283.250000</td>\n",
       "      <td>2.366359e+06</td>\n",
       "      <td>6779.850625</td>\n",
       "      <td>25.032402</td>\n",
       "      <td>55.239103</td>\n",
       "      <td>314.000000</td>\n",
       "      <td>419.250000</td>\n",
       "      <td>637.250000</td>\n",
       "      <td>23.334105</td>\n",
       "      <td>0.000000</td>\n",
       "    </tr>\n",
       "    <tr>\n",
       "      <th>50%</th>\n",
       "      <td>392.500000</td>\n",
       "      <td>6.224066e+06</td>\n",
       "      <td>10883.227338</td>\n",
       "      <td>25.153611</td>\n",
       "      <td>55.319806</td>\n",
       "      <td>4751.500000</td>\n",
       "      <td>5860.500000</td>\n",
       "      <td>6586.000000</td>\n",
       "      <td>1119.787975</td>\n",
       "      <td>5.303471</td>\n",
       "    </tr>\n",
       "    <tr>\n",
       "      <th>75%</th>\n",
       "      <td>680.000000</td>\n",
       "      <td>1.921986e+07</td>\n",
       "      <td>19299.326017</td>\n",
       "      <td>25.242531</td>\n",
       "      <td>55.403908</td>\n",
       "      <td>13406.000000</td>\n",
       "      <td>16723.500000</td>\n",
       "      <td>17811.500000</td>\n",
       "      <td>4560.645629</td>\n",
       "      <td>9.090909</td>\n",
       "    </tr>\n",
       "    <tr>\n",
       "      <th>max</th>\n",
       "      <td>991.000000</td>\n",
       "      <td>3.650142e+08</td>\n",
       "      <td>122334.492899</td>\n",
       "      <td>25.338912</td>\n",
       "      <td>56.139180</td>\n",
       "      <td>202918.000000</td>\n",
       "      <td>197838.000000</td>\n",
       "      <td>196316.000000</td>\n",
       "      <td>111380.654928</td>\n",
       "      <td>99999.000000</td>\n",
       "    </tr>\n",
       "  </tbody>\n",
       "</table>\n",
       "</div>"
      ],
      "text/plain": [
       "         COMM_NUM    SHAPE_AREA      SHAPE_LEN         lat         lon  \\\n",
       "count  226.000000  2.260000e+02     226.000000  226.000000  226.000000   \n",
       "mean   490.694690  2.105540e+07   15928.212597   25.119813   55.327693   \n",
       "std    261.874728  4.042519e+07   14509.579155    0.146898    0.146786   \n",
       "min    101.000000  7.308970e+04    1397.451420   24.660479   54.904850   \n",
       "25%    283.250000  2.366359e+06    6779.850625   25.032402   55.239103   \n",
       "50%    392.500000  6.224066e+06   10883.227338   25.153611   55.319806   \n",
       "75%    680.000000  1.921986e+07   19299.326017   25.242531   55.403908   \n",
       "max    991.000000  3.650142e+08  122334.492899   25.338912   56.139180   \n",
       "\n",
       "             Pop2017        Pop2018        Pop2019  Pop2019density  \\\n",
       "count     226.000000     226.000000     226.000000      226.000000   \n",
       "mean    13170.154867   14125.110619   14849.115044     6712.612029   \n",
       "std     24155.353167   24297.850367   24883.566435    15412.114960   \n",
       "min         0.000000       0.000000       0.000000        0.000000   \n",
       "25%       314.000000     419.250000     637.250000       23.334105   \n",
       "50%      4751.500000    5860.500000    6586.000000     1119.787975   \n",
       "75%     13406.000000   16723.500000   17811.500000     4560.645629   \n",
       "max    202918.000000  197838.000000  196316.000000   111380.654928   \n",
       "\n",
       "       PopGrowth19by18  \n",
       "count       226.000000  \n",
       "mean        603.813035  \n",
       "std        6923.760207  \n",
       "min         -42.164019  \n",
       "25%           0.000000  \n",
       "50%           5.303471  \n",
       "75%           9.090909  \n",
       "max       99999.000000  "
      ]
     },
     "execution_count": 22,
     "metadata": {},
     "output_type": "execute_result"
    }
   ],
   "source": [
    "community_pop=merged_commu_pop\n",
    "\n",
    "#community_pop.to_csv('Dxb_Community_Popn_FinalDF.csv')\n",
    "\n",
    "community_pop[\"Pop2019density\"] = (community_pop[\"Pop2019\"] *1000000/ community_pop['SHAPE_AREA']) #Pop per SQKM\n",
    "community_pop[\"PopGrowth19by18\"] = ((community_pop[\"Pop2019\"] / community_pop['Pop2018'])-1)*100\n",
    "\n",
    "community_pop.replace(np.nan, 0, inplace = True) # Commnunities with 0 / 0 value assigned this number\n",
    "community_pop.replace(np.inf, 99999, inplace = True) # Commnunities with Inf value assigned this number\n",
    "\n",
    "community_pop.describe()\n",
    "\n"
   ]
  },
  {
   "cell_type": "code",
   "execution_count": 10,
   "id": "68b40cf1",
   "metadata": {},
   "outputs": [
    {
     "name": "stdout",
     "output_type": "stream",
     "text": [
      "Matplotlib version:  3.3.4\n"
     ]
    }
   ],
   "source": [
    "%matplotlib inline \n",
    "\n",
    "import matplotlib as plt\n",
    "from matplotlib import pyplot\n",
    "\n",
    "plt.style.use('ggplot') # optional: for ggplot-like style\n",
    "\n",
    "# check for latest version of Matplotlib\n",
    "print ('Matplotlib version: ', plt.__version__) # >= 2.0.0"
   ]
  },
  {
   "cell_type": "markdown",
   "id": "ae8fd2a2",
   "metadata": {},
   "source": [
    "## Population Growth\n",
    "Lets plot the histogram of Pop Growth, to see what the distribution of looks like."
   ]
  },
  {
   "cell_type": "code",
   "execution_count": 11,
   "id": "c925215e",
   "metadata": {},
   "outputs": [
    {
     "data": {
      "text/plain": [
       "Text(0.5, 1.0, 'Histogram of Communities by Pop Growth')"
      ]
     },
     "execution_count": 11,
     "metadata": {},
     "output_type": "execute_result"
    },
    {
     "data": {
      "image/png": "[encoded data removed]",
      "text/plain": [
       "<Figure size 432x288 with 1 Axes>"
      ]
     },
     "metadata": {},
     "output_type": "display_data"
    }
   ],
   "source": [
    "plt.pyplot.hist(community_pop[\"PopGrowth19by18\"],bins=50)\n",
    "\n",
    "# set x/y labels and plot title\n",
    "plt.pyplot.xlabel(\"PopGrowth19by18\")\n",
    "plt.pyplot.ylabel(\"No of Communities\")\n",
    "plt.pyplot.title(\"Histogram of Communities by Pop Growth\")"
   ]
  },
  {
   "cell_type": "markdown",
   "id": "94848de7",
   "metadata": {},
   "source": []
  },
  {
   "cell_type": "markdown",
   "id": "d9630b24",
   "metadata": {},
   "source": [
    "We build a bin array, with a minimum value to a maximum value, to segment the range into meaningful bins of Popolation Growth. "
   ]
  },
  {
   "cell_type": "code",
   "execution_count": 12,
   "id": "c2e79ada",
   "metadata": {},
   "outputs": [],
   "source": [
    "# bins = np.linspace(min(community_pop[\"PopGrowth19by18\"]), max(community_pop[\"PopGrowth19by18\"]), 6)\n",
    "# bins"
   ]
  },
  {
   "cell_type": "code",
   "execution_count": 13,
   "id": "272ac9a6",
   "metadata": {},
   "outputs": [],
   "source": [
    "growth_names = [     ' x <= -20', '-20< x <= -2 ', '-2 < x <=2', '2 < x <= 20', '20 < x <= 100', ' > 100']\n",
    "bins_proper = [-44,         -20,             -2 ,            2,            20 ,             100 ,    9.99990000e+04]"
   ]
  },
  {
   "cell_type": "markdown",
   "id": "bede7427",
   "metadata": {},
   "source": [
    " We apply the function \"cut\" the determine what each value of \"df['PopGrowth19by18']\" belongs to. "
   ]
  },
  {
   "cell_type": "code",
   "execution_count": 14,
   "id": "58af376c",
   "metadata": {},
   "outputs": [],
   "source": [
    "community_pop['PopGrowthbinned'] = pd.cut(community_pop['PopGrowth19by18'], bins_proper, labels=growth_names, include_lowest=True )\n",
    "#community_pop[['PopGrowth19by18','PopGrowthbinned']].head()"
   ]
  },
  {
   "cell_type": "markdown",
   "id": "cd50ab19",
   "metadata": {},
   "source": [
    "Lets see the number of communities in each bin."
   ]
  },
  {
   "cell_type": "code",
   "execution_count": 15,
   "id": "cd1aff2d",
   "metadata": {},
   "outputs": [
    {
     "data": {
      "text/plain": [
       " > 100             6\n",
       "20 < x <= 100      8\n",
       "2 < x <= 20      131\n",
       "-2 < x <=2        77\n",
       "-20< x <= -2       3\n",
       " x <= -20          1\n",
       "Name: PopGrowthbinned, dtype: int64"
      ]
     },
     "execution_count": 15,
     "metadata": {},
     "output_type": "execute_result"
    }
   ],
   "source": [
    "#community_pop[\"PopGrowthbinned\"].value_counts().sort_index(ascending=False).to_frame() # If the output is wanted as a frame.\n",
    "community_pop[\"PopGrowthbinned\"].value_counts().sort_index(ascending=False)"
   ]
  },
  {
   "cell_type": "code",
   "execution_count": 16,
   "id": "ed2e575d",
   "metadata": {},
   "outputs": [
    {
     "data": {
      "text/plain": [
       "Text(0.5, 1.0, 'No. of Communities by % Pop Growth')"
      ]
     },
     "execution_count": 16,
     "metadata": {},
     "output_type": "execute_result"
    },
    {
     "data": {
      "image/png": "[encoded data removed]",
      "text/plain": [
       "<Figure size 720x360 with 1 Axes>"
      ]
     },
     "metadata": {},
     "output_type": "display_data"
    }
   ],
   "source": [
    "plt.pyplot.figure(figsize=(10, 5))\n",
    "pyplot.bar(growth_names, community_pop[\"PopGrowthbinned\"].value_counts().sort_index(ascending=True))\n",
    "\n",
    "# set x/y labels and plot title\n",
    "            \n",
    "plt.pyplot.xlabel(\"% Population Growth 2019 by 2018\")\n",
    "#plt.pyplot.xticks(rotation=90)\n",
    "plt.pyplot.ylabel(\"No of Communities\")\n",
    "plt.pyplot.title(\"No. of Communities by % Pop Growth\")"
   ]
  },
  {
   "cell_type": "markdown",
   "id": "6d11489e",
   "metadata": {},
   "source": [
    "## Population Density\n",
    "Let us analyze the Population Density"
   ]
  },
  {
   "cell_type": "code",
   "execution_count": 17,
   "id": "ed367187",
   "metadata": {},
   "outputs": [
    {
     "data": {
      "text/plain": [
       "Text(0.5, 1.0, 'Histogram of Communities by Pop Density')"
      ]
     },
     "execution_count": 17,
     "metadata": {},
     "output_type": "execute_result"
    },
    {
     "data": {
      "image/png": "[encoded data removed]",
      "text/plain": [
       "<Figure size 432x288 with 1 Axes>"
      ]
     },
     "metadata": {},
     "output_type": "display_data"
    }
   ],
   "source": [
    "plt.pyplot.hist(community_pop[\"Pop2019density\"],bins=50)\n",
    "\n",
    "# set x/y labels and plot title\n",
    "plt.pyplot.xlabel(\"Pop2019Density (Popn per SqKm)\")\n",
    "plt.pyplot.ylabel(\"No of Communities\")\n",
    "plt.pyplot.title(\"Histogram of Communities by Pop Density\")"
   ]
  },
  {
   "cell_type": "markdown",
   "id": "e582480e",
   "metadata": {},
   "source": [
    "We build a bin array, with a minimum value to a maximum value, to segment the range into meaningful bins of Popolation Growth. "
   ]
  },
  {
   "cell_type": "code",
   "execution_count": 18,
   "id": "4332bbeb",
   "metadata": {},
   "outputs": [],
   "source": [
    "density_names = [     ' x = 0', '0< x <= 10 ', '10 < x <1000', '1000 < x <= 10k', '10k < x <= 50k', ' > 50k']\n",
    "bins_proper_d = [0,   .000001 ,          10 ,           1000,             10000 ,           50000 ,     150000]"
   ]
  },
  {
   "cell_type": "markdown",
   "id": "90d5e475",
   "metadata": {},
   "source": [
    "We apply the function \"cut\" the determine what each value of \"df['PopDensity2019']\" belongs to. "
   ]
  },
  {
   "cell_type": "code",
   "execution_count": 19,
   "id": "4b9a4f09",
   "metadata": {},
   "outputs": [
    {
     "data": {
      "text/html": [
       "<div>\n",
       "<style scoped>\n",
       "    .dataframe tbody tr th:only-of-type {\n",
       "        vertical-align: middle;\n",
       "    }\n",
       "\n",
       "    .dataframe tbody tr th {\n",
       "        vertical-align: top;\n",
       "    }\n",
       "\n",
       "    .dataframe thead th {\n",
       "        text-align: right;\n",
       "    }\n",
       "</style>\n",
       "<table border=\"1\" class=\"dataframe\">\n",
       "  <thead>\n",
       "    <tr style=\"text-align: right;\">\n",
       "      <th></th>\n",
       "      <th>Pop2019density</th>\n",
       "      <th>PopDensitybinned</th>\n",
       "    </tr>\n",
       "  </thead>\n",
       "  <tbody>\n",
       "    <tr>\n",
       "      <th>0</th>\n",
       "      <td>28585.672699</td>\n",
       "      <td>10k &lt; x &lt;= 50k</td>\n",
       "    </tr>\n",
       "    <tr>\n",
       "      <th>1</th>\n",
       "      <td>16.077461</td>\n",
       "      <td>10 &lt; x &lt;1000</td>\n",
       "    </tr>\n",
       "    <tr>\n",
       "      <th>2</th>\n",
       "      <td>356.308151</td>\n",
       "      <td>10 &lt; x &lt;1000</td>\n",
       "    </tr>\n",
       "    <tr>\n",
       "      <th>3</th>\n",
       "      <td>3503.085889</td>\n",
       "      <td>1000 &lt; x &lt;= 10k</td>\n",
       "    </tr>\n",
       "    <tr>\n",
       "      <th>4</th>\n",
       "      <td>41.657652</td>\n",
       "      <td>10 &lt; x &lt;1000</td>\n",
       "    </tr>\n",
       "  </tbody>\n",
       "</table>\n",
       "</div>"
      ],
      "text/plain": [
       "   Pop2019density PopDensitybinned\n",
       "0    28585.672699   10k < x <= 50k\n",
       "1       16.077461     10 < x <1000\n",
       "2      356.308151     10 < x <1000\n",
       "3     3503.085889  1000 < x <= 10k\n",
       "4       41.657652     10 < x <1000"
      ]
     },
     "execution_count": 19,
     "metadata": {},
     "output_type": "execute_result"
    }
   ],
   "source": [
    "community_pop['PopDensitybinned'] = pd.cut(community_pop['Pop2019density'], bins_proper_d, labels=density_names, include_lowest=True )\n",
    "community_pop[['Pop2019density','PopDensitybinned']].head()"
   ]
  },
  {
   "cell_type": "markdown",
   "id": "76e30548",
   "metadata": {},
   "source": [
    "Lets see the number of communities in each bin."
   ]
  },
  {
   "cell_type": "code",
   "execution_count": 20,
   "id": "58d85eef",
   "metadata": {},
   "outputs": [
    {
     "data": {
      "text/html": [
       "<div>\n",
       "<style scoped>\n",
       "    .dataframe tbody tr th:only-of-type {\n",
       "        vertical-align: middle;\n",
       "    }\n",
       "\n",
       "    .dataframe tbody tr th {\n",
       "        vertical-align: top;\n",
       "    }\n",
       "\n",
       "    .dataframe thead th {\n",
       "        text-align: right;\n",
       "    }\n",
       "</style>\n",
       "<table border=\"1\" class=\"dataframe\">\n",
       "  <thead>\n",
       "    <tr style=\"text-align: right;\">\n",
       "      <th></th>\n",
       "      <th>PopDensitybinned</th>\n",
       "    </tr>\n",
       "  </thead>\n",
       "  <tbody>\n",
       "    <tr>\n",
       "      <th>&gt; 50k</th>\n",
       "      <td>6</td>\n",
       "    </tr>\n",
       "    <tr>\n",
       "      <th>10k &lt; x &lt;= 50k</th>\n",
       "      <td>30</td>\n",
       "    </tr>\n",
       "    <tr>\n",
       "      <th>1000 &lt; x &lt;= 10k</th>\n",
       "      <td>79</td>\n",
       "    </tr>\n",
       "    <tr>\n",
       "      <th>10 &lt; x &lt;1000</th>\n",
       "      <td>61</td>\n",
       "    </tr>\n",
       "    <tr>\n",
       "      <th>0&lt; x &lt;= 10</th>\n",
       "      <td>47</td>\n",
       "    </tr>\n",
       "    <tr>\n",
       "      <th>x = 0</th>\n",
       "      <td>3</td>\n",
       "    </tr>\n",
       "  </tbody>\n",
       "</table>\n",
       "</div>"
      ],
      "text/plain": [
       "                 PopDensitybinned\n",
       " > 50k                          6\n",
       "10k < x <= 50k                 30\n",
       "1000 < x <= 10k                79\n",
       "10 < x <1000                   61\n",
       "0< x <= 10                     47\n",
       " x = 0                          3"
      ]
     },
     "execution_count": 20,
     "metadata": {},
     "output_type": "execute_result"
    }
   ],
   "source": [
    "community_pop[\"PopDensitybinned\"].value_counts().sort_index(ascending=False).to_frame() # If the output is wanted as a frame.\n",
    "#community_pop[\"PopDensitybinned\"].value_counts().sort_index(ascending=False) # If the output is not wanted as a frame."
   ]
  },
  {
   "cell_type": "code",
   "execution_count": 21,
   "id": "ce14bbd0",
   "metadata": {},
   "outputs": [
    {
     "data": {
      "text/plain": [
       "Text(0.5, 1.0, 'No. of Communities by Popn Density')"
      ]
     },
     "execution_count": 21,
     "metadata": {},
     "output_type": "execute_result"
    },
    {
     "data": {
      "image/png": "[encoded data removed]",
      "text/plain": [
       "<Figure size 720x360 with 1 Axes>"
      ]
     },
     "metadata": {},
     "output_type": "display_data"
    }
   ],
   "source": [
    "plt.pyplot.figure(figsize=(10, 5))\n",
    "pyplot.bar(density_names, community_pop[\"PopDensitybinned\"].value_counts().sort_index(ascending=True))\n",
    "\n",
    "# set x/y labels and plot title\n",
    "            \n",
    "plt.pyplot.xlabel(\"Population Density 2019 (Popn / SqKM)\")\n",
    "#plt.pyplot.xticks(rotation=90)\n",
    "plt.pyplot.ylabel(\"No of Communities\")\n",
    "plt.pyplot.title(\"No. of Communities by Popn Density\")"
   ]
  },
  {
   "cell_type": "markdown",
   "id": "cc57d60d",
   "metadata": {},
   "source": [
    "# Final File with Marked Variables for Popn Density & Growth\n"
   ]
  },
  {
   "cell_type": "code",
   "execution_count": 22,
   "id": "1e71ce3c",
   "metadata": {},
   "outputs": [
    {
     "data": {
      "text/html": [
       "<div>\n",
       "<style scoped>\n",
       "    .dataframe tbody tr th:only-of-type {\n",
       "        vertical-align: middle;\n",
       "    }\n",
       "\n",
       "    .dataframe tbody tr th {\n",
       "        vertical-align: top;\n",
       "    }\n",
       "\n",
       "    .dataframe thead th {\n",
       "        text-align: right;\n",
       "    }\n",
       "</style>\n",
       "<table border=\"1\" class=\"dataframe\">\n",
       "  <thead>\n",
       "    <tr style=\"text-align: right;\">\n",
       "      <th></th>\n",
       "      <th>COMM_NUM</th>\n",
       "      <th>SHAPE_AREA</th>\n",
       "      <th>SHAPE_LEN</th>\n",
       "      <th>lat</th>\n",
       "      <th>lon</th>\n",
       "      <th>Sector</th>\n",
       "      <th>CNAME_E</th>\n",
       "      <th>CNAME_A</th>\n",
       "      <th>Pop2017</th>\n",
       "      <th>Pop2018</th>\n",
       "      <th>Pop2019</th>\n",
       "      <th>Pop2019density</th>\n",
       "      <th>PopGrowth19by18</th>\n",
       "      <th>PopGrowthbinned</th>\n",
       "      <th>PopDensitybinned</th>\n",
       "    </tr>\n",
       "  </thead>\n",
       "  <tbody>\n",
       "    <tr>\n",
       "      <th>0</th>\n",
       "      <td>333</td>\n",
       "      <td>1.984701e+06</td>\n",
       "      <td>7946.070175</td>\n",
       "      <td>25.225314</td>\n",
       "      <td>55.268768</td>\n",
       "      <td>Sector 3</td>\n",
       "      <td>AL BADA</td>\n",
       "      <td>البدع</td>\n",
       "      <td>51467.0</td>\n",
       "      <td>54338.0</td>\n",
       "      <td>56734.0</td>\n",
       "      <td>28585.672699</td>\n",
       "      <td>4.409437</td>\n",
       "      <td>2 &lt; x &lt;= 20</td>\n",
       "      <td>10k &lt; x &lt;= 50k</td>\n",
       "    </tr>\n",
       "    <tr>\n",
       "      <th>1</th>\n",
       "      <td>121</td>\n",
       "      <td>8.707842e+05</td>\n",
       "      <td>5165.842443</td>\n",
       "      <td>25.287165</td>\n",
       "      <td>55.317958</td>\n",
       "      <td>Sector 1</td>\n",
       "      <td>CORNICHE DEIRA</td>\n",
       "      <td>كورنيش ديرة</td>\n",
       "      <td>14.0</td>\n",
       "      <td>14.0</td>\n",
       "      <td>14.0</td>\n",
       "      <td>16.077461</td>\n",
       "      <td>0.000000</td>\n",
       "      <td>-2 &lt; x &lt;=2</td>\n",
       "      <td>10 &lt; x &lt;1000</td>\n",
       "    </tr>\n",
       "    <tr>\n",
       "      <th>2</th>\n",
       "      <td>282</td>\n",
       "      <td>1.269407e+07</td>\n",
       "      <td>14582.351508</td>\n",
       "      <td>25.230697</td>\n",
       "      <td>55.521222</td>\n",
       "      <td>Sector 2</td>\n",
       "      <td>AL KHAWANEEJ TWO</td>\n",
       "      <td>الخوانيج الثانية</td>\n",
       "      <td>2786.0</td>\n",
       "      <td>3865.0</td>\n",
       "      <td>4523.0</td>\n",
       "      <td>356.308151</td>\n",
       "      <td>17.024580</td>\n",
       "      <td>2 &lt; x &lt;= 20</td>\n",
       "      <td>10 &lt; x &lt;1000</td>\n",
       "    </tr>\n",
       "    <tr>\n",
       "      <th>3</th>\n",
       "      <td>353</td>\n",
       "      <td>2.430429e+06</td>\n",
       "      <td>6705.662879</td>\n",
       "      <td>25.175690</td>\n",
       "      <td>55.238309</td>\n",
       "      <td>Sector 3</td>\n",
       "      <td>AL SAFFA FIRST</td>\n",
       "      <td>الصفا الأولى</td>\n",
       "      <td>7540.0</td>\n",
       "      <td>7893.0</td>\n",
       "      <td>8514.0</td>\n",
       "      <td>3503.085889</td>\n",
       "      <td>7.867731</td>\n",
       "      <td>2 &lt; x &lt;= 20</td>\n",
       "      <td>1000 &lt; x &lt;= 10k</td>\n",
       "    </tr>\n",
       "    <tr>\n",
       "      <th>4</th>\n",
       "      <td>736</td>\n",
       "      <td>1.305883e+07</td>\n",
       "      <td>15567.139691</td>\n",
       "      <td>25.024015</td>\n",
       "      <td>55.646574</td>\n",
       "      <td>Sector 7</td>\n",
       "      <td>NAZWAH</td>\n",
       "      <td>نزوه</td>\n",
       "      <td>450.0</td>\n",
       "      <td>504.0</td>\n",
       "      <td>544.0</td>\n",
       "      <td>41.657652</td>\n",
       "      <td>7.936508</td>\n",
       "      <td>2 &lt; x &lt;= 20</td>\n",
       "      <td>10 &lt; x &lt;1000</td>\n",
       "    </tr>\n",
       "  </tbody>\n",
       "</table>\n",
       "</div>"
      ],
      "text/plain": [
       "   COMM_NUM    SHAPE_AREA     SHAPE_LEN        lat        lon    Sector  \\\n",
       "0       333  1.984701e+06   7946.070175  25.225314  55.268768  Sector 3   \n",
       "1       121  8.707842e+05   5165.842443  25.287165  55.317958  Sector 1   \n",
       "2       282  1.269407e+07  14582.351508  25.230697  55.521222  Sector 2   \n",
       "3       353  2.430429e+06   6705.662879  25.175690  55.238309  Sector 3   \n",
       "4       736  1.305883e+07  15567.139691  25.024015  55.646574  Sector 7   \n",
       "\n",
       "            CNAME_E           CNAME_A  Pop2017  Pop2018  Pop2019  \\\n",
       "0           AL BADA             البدع  51467.0  54338.0  56734.0   \n",
       "1    CORNICHE DEIRA       كورنيش ديرة     14.0     14.0     14.0   \n",
       "2  AL KHAWANEEJ TWO  الخوانيج الثانية   2786.0   3865.0   4523.0   \n",
       "3    AL SAFFA FIRST      الصفا الأولى   7540.0   7893.0   8514.0   \n",
       "4            NAZWAH              نزوه    450.0    504.0    544.0   \n",
       "\n",
       "   Pop2019density  PopGrowth19by18 PopGrowthbinned PopDensitybinned  \n",
       "0    28585.672699         4.409437     2 < x <= 20   10k < x <= 50k  \n",
       "1       16.077461         0.000000      -2 < x <=2     10 < x <1000  \n",
       "2      356.308151        17.024580     2 < x <= 20     10 < x <1000  \n",
       "3     3503.085889         7.867731     2 < x <= 20  1000 < x <= 10k  \n",
       "4       41.657652         7.936508     2 < x <= 20     10 < x <1000  "
      ]
     },
     "execution_count": 22,
     "metadata": {},
     "output_type": "execute_result"
    }
   ],
   "source": [
    "community_pop.head()"
   ]
  },
  {
   "cell_type": "code",
   "execution_count": 74,
   "id": "3b601aa6",
   "metadata": {},
   "outputs": [
    {
     "data": {
      "text/plain": [
       "Text(0.5, 1.0, 'Scatter')"
      ]
     },
     "execution_count": 74,
     "metadata": {},
     "output_type": "execute_result"
    },
    {
     "data": {
      "image/png": "[encoded data removed]",
      "text/plain": [
       "<Figure size 576x576 with 1 Axes>"
      ]
     },
     "metadata": {},
     "output_type": "display_data"
    }
   ],
   "source": [
    "# community_pop_filtered = community_pop[(community_pop['PopGrowth19by18'] <= 100) & (community_pop['PopGrowth19by18'] > -2)]\n",
    "# community_pop_filtered = community_pop_filtered[(community_pop['Pop2019density'] > 0) & (community_pop['Pop2019density'] <= 50000)]\n",
    "\n",
    "community_pop_filtered = community_pop[(community_pop['PopGrowth19by18'] <= 100) & (community_pop['PopGrowth19by18'] > -2) & \n",
    "                                       (community_pop['Pop2019density'] > 0) & (community_pop['Pop2019density'] <= 50000)]\n",
    "\n",
    "\n",
    "\n",
    "plt.pyplot.figure(figsize=(8, 8))\n",
    "plt.pyplot.scatter(community_pop_filtered['Pop2019density'], community_pop_filtered['PopGrowth19by18'], color='green')\n",
    "\n",
    "# set x/y labels and plot title\n",
    "            \n",
    "plt.pyplot.xlabel(\"Population Density 2019 (Popn / SqKM)\")\n",
    "#plt.pyplot.xticks(rotation=90)\n",
    "plt.pyplot.ylabel(\"Percent Population Growth 19 by 18\")\n",
    "plt.pyplot.title(\"Scatter\")"
   ]
  },
  {
   "cell_type": "code",
   "execution_count": 75,
   "id": "10f3b825",
   "metadata": {},
   "outputs": [],
   "source": [
    "community_pop.to_csv(\"Dxb_Community_Popn_FinalDF.csv\")"
   ]
  },
  {
   "cell_type": "code",
   "execution_count": 76,
   "id": "e8bdbe04",
   "metadata": {},
   "outputs": [
    {
     "data": {
      "text/html": [
       "<div>\n",
       "<style scoped>\n",
       "    .dataframe tbody tr th:only-of-type {\n",
       "        vertical-align: middle;\n",
       "    }\n",
       "\n",
       "    .dataframe tbody tr th {\n",
       "        vertical-align: top;\n",
       "    }\n",
       "\n",
       "    .dataframe thead th {\n",
       "        text-align: right;\n",
       "    }\n",
       "</style>\n",
       "<table border=\"1\" class=\"dataframe\">\n",
       "  <thead>\n",
       "    <tr style=\"text-align: right;\">\n",
       "      <th>PopDensitybinned</th>\n",
       "      <th>x = 0</th>\n",
       "      <th>0&lt; x &lt;= 10</th>\n",
       "      <th>10 &lt; x &lt;1000</th>\n",
       "      <th>1000 &lt; x &lt;= 10k</th>\n",
       "      <th>10k &lt; x &lt;= 50k</th>\n",
       "      <th>&gt; 50k</th>\n",
       "    </tr>\n",
       "    <tr>\n",
       "      <th>PopGrowthbinned</th>\n",
       "      <th></th>\n",
       "      <th></th>\n",
       "      <th></th>\n",
       "      <th></th>\n",
       "      <th></th>\n",
       "      <th></th>\n",
       "    </tr>\n",
       "  </thead>\n",
       "  <tbody>\n",
       "    <tr>\n",
       "      <th>x &lt;= -20</th>\n",
       "      <td>0</td>\n",
       "      <td>0</td>\n",
       "      <td>1</td>\n",
       "      <td>0</td>\n",
       "      <td>0</td>\n",
       "      <td>0</td>\n",
       "    </tr>\n",
       "    <tr>\n",
       "      <th>-20&lt; x &lt;= -2</th>\n",
       "      <td>0</td>\n",
       "      <td>0</td>\n",
       "      <td>2</td>\n",
       "      <td>0</td>\n",
       "      <td>1</td>\n",
       "      <td>0</td>\n",
       "    </tr>\n",
       "    <tr>\n",
       "      <th>-2 &lt; x &lt;=2</th>\n",
       "      <td>3</td>\n",
       "      <td>37</td>\n",
       "      <td>14</td>\n",
       "      <td>10</td>\n",
       "      <td>11</td>\n",
       "      <td>2</td>\n",
       "    </tr>\n",
       "    <tr>\n",
       "      <th>2 &lt; x &lt;= 20</th>\n",
       "      <td>0</td>\n",
       "      <td>10</td>\n",
       "      <td>32</td>\n",
       "      <td>67</td>\n",
       "      <td>18</td>\n",
       "      <td>4</td>\n",
       "    </tr>\n",
       "    <tr>\n",
       "      <th>20 &lt; x &lt;= 100</th>\n",
       "      <td>0</td>\n",
       "      <td>0</td>\n",
       "      <td>6</td>\n",
       "      <td>2</td>\n",
       "      <td>0</td>\n",
       "      <td>0</td>\n",
       "    </tr>\n",
       "    <tr>\n",
       "      <th>&gt; 100</th>\n",
       "      <td>0</td>\n",
       "      <td>0</td>\n",
       "      <td>6</td>\n",
       "      <td>0</td>\n",
       "      <td>0</td>\n",
       "      <td>0</td>\n",
       "    </tr>\n",
       "  </tbody>\n",
       "</table>\n",
       "</div>"
      ],
      "text/plain": [
       "PopDensitybinned   x = 0  0< x <= 10   10 < x <1000  1000 < x <= 10k  \\\n",
       "PopGrowthbinned                                                        \n",
       " x <= -20              0            0             1                0   \n",
       "-20< x <= -2           0            0             2                0   \n",
       "-2 < x <=2             3           37            14               10   \n",
       "2 < x <= 20            0           10            32               67   \n",
       "20 < x <= 100          0            0             6                2   \n",
       " > 100                 0            0             6                0   \n",
       "\n",
       "PopDensitybinned  10k < x <= 50k   > 50k  \n",
       "PopGrowthbinned                           \n",
       " x <= -20                      0       0  \n",
       "-20< x <= -2                   1       0  \n",
       "-2 < x <=2                    11       2  \n",
       "2 < x <= 20                   18       4  \n",
       "20 < x <= 100                  0       0  \n",
       " > 100                         0       0  "
      ]
     },
     "execution_count": 76,
     "metadata": {},
     "output_type": "execute_result"
    }
   ],
   "source": [
    "community_pop_ind=community_pop\n",
    "community_pop_ind['Counter']=1\n",
    "\n",
    "#pivot_count= community_pop.pivot_table(values=\"Counter\", index=\"PopGrowthbinned\", columns=\"PopDensitybinned\", aggfunc=sum) # Gives the names of Commnunities\n",
    "pivot_count= community_pop.pivot_table(values=\"Counter\", index=\"PopGrowthbinned\", columns=\"PopDensitybinned\", aggfunc=sum, fill_value=0) # Gives the No of Commnunities\n",
    "pivot_count"
   ]
  },
  {
   "cell_type": "code",
   "execution_count": 77,
   "id": "a639c4a1",
   "metadata": {},
   "outputs": [],
   "source": [
    "# pivot_count.to_csv(\"Dxb_Community_Popn_PIVOT.csv\") #Output the Pivot if reqd"
   ]
  },
  {
   "cell_type": "code",
   "execution_count": 78,
   "id": "a5fe2974",
   "metadata": {},
   "outputs": [],
   "source": [
    "%%capture\n",
    "! pip install seaborn\n",
    "\n",
    "import seaborn as sns"
   ]
  },
  {
   "cell_type": "code",
   "execution_count": 79,
   "id": "c3d11d47",
   "metadata": {},
   "outputs": [
    {
     "data": {
      "text/plain": [
       "<AxesSubplot:xlabel='Sector', ylabel='Pop2019'>"
      ]
     },
     "execution_count": 79,
     "metadata": {},
     "output_type": "execute_result"
    },
    {
     "data": {
      "image/png": "[encoded data removed]",
      "text/plain": [
       "<Figure size 1152x432 with 1 Axes>"
      ]
     },
     "metadata": {},
     "output_type": "display_data"
    }
   ],
   "source": [
    "plt.pyplot.figure(figsize=(16, 6))\n",
    "sns.boxplot(x=\"Sector\", y=\"Pop2019\", data=community_pop, order=[\"Sector 1\", \"Sector 2\", \"Sector 3\",\"Sector 4\", \"Sector 5\", \"Sector 6\",\"Sector 7\",\"Sector 8\",\"Sector 9\"])"
   ]
  },
  {
   "cell_type": "code",
   "execution_count": 80,
   "id": "2996942e",
   "metadata": {},
   "outputs": [
    {
     "data": {
      "text/plain": [
       "<AxesSubplot:xlabel='Sector', ylabel='Pop2019density'>"
      ]
     },
     "execution_count": 80,
     "metadata": {},
     "output_type": "execute_result"
    },
    {
     "data": {
      "image/png": "[encoded data removed]",
      "text/plain": [
       "<Figure size 1152x432 with 1 Axes>"
      ]
     },
     "metadata": {},
     "output_type": "display_data"
    }
   ],
   "source": [
    "plt.pyplot.figure(figsize=(16, 6))\n",
    "sns.boxplot(x=\"Sector\", y=\"Pop2019density\", data=community_pop, order=[\"Sector 1\", \"Sector 2\", \"Sector 3\",\"Sector 4\", \"Sector 5\", \"Sector 6\",\"Sector 7\",\"Sector 8\",\"Sector 9\"])"
   ]
  },
  {
   "cell_type": "code",
   "execution_count": 81,
   "id": "8ec3a262",
   "metadata": {},
   "outputs": [
    {
     "data": {
      "image/png": "[encoded data removed]",
      "text/plain": [
       "<Figure size 720x576 with 2 Axes>"
      ]
     },
     "metadata": {},
     "output_type": "display_data"
    }
   ],
   "source": [
    "pivot_count1=pivot_count.replace(0,np.NaN) # inserted NaN for values which are Zero\n",
    "\n",
    "fig, ax = plt.pyplot.subplots(figsize=(10, 8))\n",
    "\n",
    "sns.heatmap(pivot_count1, annot=True, cmap='coolwarm')\n",
    "\n",
    "#im = ax.pcolor(pivot_count, cmap='coolwarm')\n",
    "\n",
    "# Color Map Ref : https://medium.com/@morganjonesartist/color-guide-to-seaborn-palettes-da849406d44f\n",
    "\n",
    "#label names\n",
    "row_labels = pivot_count1.columns\n",
    "col_labels = pivot_count1.index\n",
    "\n",
    "#move ticks and labels to the center\n",
    "ax.set_xticks(np.arange(pivot_count1.shape[1]) + 0.5, minor=False)\n",
    "ax.set_yticks(np.arange(pivot_count1.shape[0]) + 0.5, minor=False)\n",
    "\n",
    "#insert labels\n",
    "ax.set_xticklabels(row_labels, minor=False)\n",
    "ax.set_yticklabels(col_labels, minor=False)\n",
    "\n",
    "plt.pyplot.xlabel(\"Population Density 2019 (Popn / SqKM)\")\n",
    "plt.pyplot.ylabel(\"Percent Population Growth 19 by 18\")\n",
    "plt.pyplot.title(\"Heatmap of No. of Communities\")\n",
    "\n",
    "#rotate label if too long\n",
    "plt.pyplot.xticks(rotation=90)\n",
    "\n",
    "#fig.colorbar(im)\n",
    "plt.pyplot.show()"
   ]
  },
  {
   "cell_type": "code",
   "execution_count": null,
   "id": "992426f8",
   "metadata": {},
   "outputs": [],
   "source": []
  }
 ],
 "metadata": {
  "kernelspec": {
   "display_name": "Python",
   "language": "python",
   "name": "conda-env-python-py"
  },
  "language_info": {
   "codemirror_mode": {
    "name": "ipython",
    "version": 3
   },
   "file_extension": ".py",
   "mimetype": "text/x-python",
   "name": "python",
   "nbconvert_exporter": "python",
   "pygments_lexer": "ipython3",
   "version": "3.6.13"
  }
 },
 "nbformat": 4,
 "nbformat_minor": 5
}
